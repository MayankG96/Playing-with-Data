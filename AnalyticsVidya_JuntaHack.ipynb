{
  "nbformat": 4,
  "nbformat_minor": 0,
  "metadata": {
    "colab": {
      "name": "AnalyticsVidya-JuntaHack.ipynb",
      "provenance": [],
      "collapsed_sections": [
        "H2-z241p-bjH",
        "CP8xSkSJtNxS"
      ],
      "authorship_tag": "ABX9TyPNr/I5rxwQdAGTTycgUiRN",
      "include_colab_link": true
    },
    "kernelspec": {
      "name": "python3",
      "display_name": "Python 3"
    }
  },
  "cells": [
    {
      "cell_type": "markdown",
      "metadata": {
        "id": "view-in-github",
        "colab_type": "text"
      },
      "source": [
        "<a href=\"https://colab.research.google.com/github/mikeyy1996/Playing-with-Data/blob/master/AnalyticsVidya_JuntaHack.ipynb\" target=\"_parent\"><img src=\"https://colab.research.google.com/assets/colab-badge.svg\" alt=\"Open In Colab\"/></a>"
      ]
    },
    {
      "cell_type": "markdown",
      "metadata": {
        "id": "hDzXwrws8Q04",
        "colab_type": "text"
      },
      "source": [
        "# Problem Statement\n",
        "A training institute which conducts training for analytics/ data science wants to expand their business to manpower recruitment (data science only) as well. \n",
        " \n",
        "Company gets large number of signups for their trainings. Now, company wants to connect these enrollees with their clients who are looking to hire employees working in the same domain. Before that, it is important to know which of these candidates are really looking for a new employment. They have student information related to demographics, education, experience and features related to training as well.\n",
        "\n",
        "------------------------------------------------------------------------\n",
        "\n",
        "#AIM\n",
        "\n",
        "We need to design a model that uses the current credentials/demographics/experience to predict the probability of an enrollee to look for a new job.\n",
        "\n",
        "------------------------------------------------------------------------\n",
        "\n",
        "This notebook is structured as follows:\n",
        "\n",
        "1. **Data Analysis** : In this section, we explore the dataset by taking a look at the feature distributions, how correlated one feature is to the other. \n",
        "2. **Feature Engineering,Categorical Encoding and Data Balancing** : Conduct some feature engineering as well as encode all our categorical features into dummy variables\n",
        "3. **Implementing Machine Learning models** : Implement machine learning models for predictions"
      ]
    },
    {
      "cell_type": "markdown",
      "metadata": {
        "id": "H2-z241p-bjH",
        "colab_type": "text"
      },
      "source": [
        "# Data Analysis\n",
        "\n",
        "**In this section we will take a look at train and test data, find relations between features and labels,handle missing values and try to create a balanced dataset**"
      ]
    },
    {
      "cell_type": "code",
      "metadata": {
        "id": "aZ7OVZ9EqeTJ",
        "colab_type": "code",
        "colab": {}
      },
      "source": [
        "# Importing required libraries\n",
        "import pandas as pd\n",
        "import numpy as np\n",
        "import matplotlib.pyplot as plt\n",
        "import seaborn as sns\n",
        "from scipy import stats\n",
        "from sklearn import preprocessing,model_selection"
      ],
      "execution_count": 0,
      "outputs": []
    },
    {
      "cell_type": "code",
      "metadata": {
        "id": "enRFsIimqoWB",
        "colab_type": "code",
        "outputId": "a9477c23-545f-447f-d045-63fa40f30a5e",
        "colab": {
          "base_uri": "https://localhost:8080/",
          "height": 282
        }
      },
      "source": [
        "#reading data into dfs\n",
        "data = pd.read_csv(\"/train.csv\")\n",
        "data_test = pd.read_csv(\"/test.csv\")\n",
        "data.head()"
      ],
      "execution_count": 0,
      "outputs": [
        {
          "output_type": "execute_result",
          "data": {
            "text/html": [
              "<div>\n",
              "<style scoped>\n",
              "    .dataframe tbody tr th:only-of-type {\n",
              "        vertical-align: middle;\n",
              "    }\n",
              "\n",
              "    .dataframe tbody tr th {\n",
              "        vertical-align: top;\n",
              "    }\n",
              "\n",
              "    .dataframe thead th {\n",
              "        text-align: right;\n",
              "    }\n",
              "</style>\n",
              "<table border=\"1\" class=\"dataframe\">\n",
              "  <thead>\n",
              "    <tr style=\"text-align: right;\">\n",
              "      <th></th>\n",
              "      <th>enrollee_id</th>\n",
              "      <th>city</th>\n",
              "      <th>city_development_index</th>\n",
              "      <th>gender</th>\n",
              "      <th>relevent_experience</th>\n",
              "      <th>enrolled_university</th>\n",
              "      <th>education_level</th>\n",
              "      <th>major_discipline</th>\n",
              "      <th>experience</th>\n",
              "      <th>company_size</th>\n",
              "      <th>company_type</th>\n",
              "      <th>last_new_job</th>\n",
              "      <th>training_hours</th>\n",
              "      <th>target</th>\n",
              "    </tr>\n",
              "  </thead>\n",
              "  <tbody>\n",
              "    <tr>\n",
              "      <th>0</th>\n",
              "      <td>23798</td>\n",
              "      <td>city_149</td>\n",
              "      <td>0.689</td>\n",
              "      <td>Male</td>\n",
              "      <td>Has relevent experience</td>\n",
              "      <td>no_enrollment</td>\n",
              "      <td>Graduate</td>\n",
              "      <td>STEM</td>\n",
              "      <td>3</td>\n",
              "      <td>100-500</td>\n",
              "      <td>Pvt Ltd</td>\n",
              "      <td>1</td>\n",
              "      <td>106</td>\n",
              "      <td>0</td>\n",
              "    </tr>\n",
              "    <tr>\n",
              "      <th>1</th>\n",
              "      <td>29166</td>\n",
              "      <td>city_83</td>\n",
              "      <td>0.923</td>\n",
              "      <td>Male</td>\n",
              "      <td>Has relevent experience</td>\n",
              "      <td>no_enrollment</td>\n",
              "      <td>Graduate</td>\n",
              "      <td>STEM</td>\n",
              "      <td>14</td>\n",
              "      <td>&lt;10</td>\n",
              "      <td>Funded Startup</td>\n",
              "      <td>1</td>\n",
              "      <td>69</td>\n",
              "      <td>0</td>\n",
              "    </tr>\n",
              "    <tr>\n",
              "      <th>2</th>\n",
              "      <td>46</td>\n",
              "      <td>city_16</td>\n",
              "      <td>0.910</td>\n",
              "      <td>NaN</td>\n",
              "      <td>Has relevent experience</td>\n",
              "      <td>no_enrollment</td>\n",
              "      <td>Graduate</td>\n",
              "      <td>STEM</td>\n",
              "      <td>6</td>\n",
              "      <td>50-99</td>\n",
              "      <td>Public Sector</td>\n",
              "      <td>2</td>\n",
              "      <td>4</td>\n",
              "      <td>0</td>\n",
              "    </tr>\n",
              "    <tr>\n",
              "      <th>3</th>\n",
              "      <td>18527</td>\n",
              "      <td>city_64</td>\n",
              "      <td>0.666</td>\n",
              "      <td>Male</td>\n",
              "      <td>Has relevent experience</td>\n",
              "      <td>no_enrollment</td>\n",
              "      <td>Graduate</td>\n",
              "      <td>STEM</td>\n",
              "      <td>14</td>\n",
              "      <td>50-99</td>\n",
              "      <td>Pvt Ltd</td>\n",
              "      <td>1</td>\n",
              "      <td>26</td>\n",
              "      <td>0</td>\n",
              "    </tr>\n",
              "    <tr>\n",
              "      <th>4</th>\n",
              "      <td>21751</td>\n",
              "      <td>city_100</td>\n",
              "      <td>0.887</td>\n",
              "      <td>NaN</td>\n",
              "      <td>No relevent experience</td>\n",
              "      <td>no_enrollment</td>\n",
              "      <td>Masters</td>\n",
              "      <td>STEM</td>\n",
              "      <td>8</td>\n",
              "      <td>NaN</td>\n",
              "      <td>NaN</td>\n",
              "      <td>2</td>\n",
              "      <td>88</td>\n",
              "      <td>1</td>\n",
              "    </tr>\n",
              "  </tbody>\n",
              "</table>\n",
              "</div>"
            ],
            "text/plain": [
              "   enrollee_id      city  ...  training_hours target\n",
              "0        23798  city_149  ...             106      0\n",
              "1        29166   city_83  ...              69      0\n",
              "2           46   city_16  ...               4      0\n",
              "3        18527   city_64  ...              26      0\n",
              "4        21751  city_100  ...              88      1\n",
              "\n",
              "[5 rows x 14 columns]"
            ]
          },
          "metadata": {
            "tags": []
          },
          "execution_count": 668
        }
      ]
    },
    {
      "cell_type": "code",
      "metadata": {
        "id": "KQugo9-ArJYX",
        "colab_type": "code",
        "outputId": "a8af26f1-1dec-4ad4-f060-6a4122abf8d2",
        "colab": {
          "base_uri": "https://localhost:8080/",
          "height": 370
        }
      },
      "source": [
        "data.info()\n"
      ],
      "execution_count": 0,
      "outputs": [
        {
          "output_type": "stream",
          "text": [
            "<class 'pandas.core.frame.DataFrame'>\n",
            "RangeIndex: 18359 entries, 0 to 18358\n",
            "Data columns (total 14 columns):\n",
            " #   Column                  Non-Null Count  Dtype  \n",
            "---  ------                  --------------  -----  \n",
            " 0   enrollee_id             18359 non-null  int64  \n",
            " 1   city                    18359 non-null  object \n",
            " 2   city_development_index  18359 non-null  float64\n",
            " 3   gender                  14261 non-null  object \n",
            " 4   relevent_experience     18359 non-null  object \n",
            " 5   enrolled_university     18017 non-null  object \n",
            " 6   education_level         17902 non-null  object \n",
            " 7   major_discipline        15521 non-null  object \n",
            " 8   experience              18300 non-null  object \n",
            " 9   company_size            13580 non-null  object \n",
            " 10  company_type            13320 non-null  object \n",
            " 11  last_new_job            17992 non-null  object \n",
            " 12  training_hours          18359 non-null  int64  \n",
            " 13  target                  18359 non-null  int64  \n",
            "dtypes: float64(1), int64(3), object(10)\n",
            "memory usage: 2.0+ MB\n"
          ],
          "name": "stdout"
        }
      ]
    },
    {
      "cell_type": "code",
      "metadata": {
        "id": "ve9WUeeNVb2A",
        "colab_type": "code",
        "outputId": "e473ed94-2f56-4f42-8a03-aab6e4ad0d94",
        "colab": {
          "base_uri": "https://localhost:8080/",
          "height": 269
        }
      },
      "source": [
        "print(data.isnull().sum())"
      ],
      "execution_count": 0,
      "outputs": [
        {
          "output_type": "stream",
          "text": [
            "enrollee_id                  0\n",
            "city                         0\n",
            "city_development_index       0\n",
            "gender                    4098\n",
            "relevent_experience          0\n",
            "enrolled_university        342\n",
            "education_level            457\n",
            "major_discipline          2838\n",
            "experience                  59\n",
            "company_size              4779\n",
            "company_type              5039\n",
            "last_new_job               367\n",
            "training_hours               0\n",
            "target                       0\n",
            "dtype: int64\n"
          ],
          "name": "stdout"
        }
      ]
    },
    {
      "cell_type": "markdown",
      "metadata": {
        "id": "XZUPlcIiAKEf",
        "colab_type": "text"
      },
      "source": [
        "\n",
        "**Observations**\n",
        "\n",
        "\n",
        "*   Our label will be 'Target'\n",
        "*   We have 10 categorical features which will be needed to converted into numerical through encoding.\n",
        "\n",
        "\n",
        "*   Lots of columns have null values as well. We need to impute the values.\n",
        "\n",
        "\n",
        "\n",
        "\n",
        "\n",
        "\n"
      ]
    },
    {
      "cell_type": "markdown",
      "metadata": {
        "id": "QSMgHnw91omT",
        "colab_type": "text"
      },
      "source": [
        "**Let us now perform Chi-square to see relationship of categorical features with label.We will take the p-value as the estimate**"
      ]
    },
    {
      "cell_type": "code",
      "metadata": {
        "id": "y-Z0J4qhuVue",
        "colab_type": "code",
        "outputId": "8d57a3ea-d58d-48dc-c42b-99c95c1a140d",
        "colab": {
          "base_uri": "https://localhost:8080/",
          "height": 185
        }
      },
      "source": [
        "columns = ['city','gender','relevent_experience','enrolled_university','education_level','major_discipline','experience','last_new_job','company_size','company_type']\n",
        "for col in columns:\n",
        "  cont = pd.crosstab(data['target'],data[col])\n",
        "  chi_val = stats.chi2_contingency(cont)\n",
        "  print('p-value for:',col,chi_val[1])"
      ],
      "execution_count": 0,
      "outputs": [
        {
          "output_type": "stream",
          "text": [
            "p-value for: city 3.855216727610617e-64\n",
            "p-value for: gender 0.009638527670809707\n",
            "p-value for: relevent_experience 1.3267956813314173e-23\n",
            "p-value for: enrolled_university 1.7789332654895568e-28\n",
            "p-value for: education_level 7.262842220434136e-06\n",
            "p-value for: major_discipline 0.2155392686100149\n",
            "p-value for: experience 1.965820323112401e-30\n",
            "p-value for: last_new_job 0.0009590216415931114\n",
            "p-value for: company_size 0.019162917486512995\n",
            "p-value for: company_type 6.953189749635574e-05\n"
          ],
          "name": "stdout"
        }
      ]
    },
    {
      "cell_type": "markdown",
      "metadata": {
        "id": "gs5olyfOB77X",
        "colab_type": "text"
      },
      "source": [
        "*Considering confidence interval to be 0.1; we can see major_discipline and company_size does not make for a good candidate.Also they have a lot of NULL values. Hence we will be dropping them.*"
      ]
    },
    {
      "cell_type": "code",
      "metadata": {
        "id": "bIQYgHy0rtUc",
        "colab_type": "code",
        "colab": {}
      },
      "source": [
        "data = data.drop(['major_discipline','company_size'],axis = 'columns')\n",
        "data_test = data_test.drop(['major_discipline','company_size'],axis = 'columns')\n"
      ],
      "execution_count": 0,
      "outputs": []
    },
    {
      "cell_type": "markdown",
      "metadata": {
        "id": "CP8xSkSJtNxS",
        "colab_type": "text"
      },
      "source": [
        "#Feature Engineering,Categorical Encoding and Data Balancing\n",
        "\n",
        "\n",
        "\n"
      ]
    },
    {
      "cell_type": "code",
      "metadata": {
        "id": "1YYTTJnAF__Z",
        "colab_type": "code",
        "outputId": "cc11e40a-2a14-484e-f89d-b5b2649249e5",
        "colab": {
          "base_uri": "https://localhost:8080/",
          "height": 235
        }
      },
      "source": [
        "print(data.isnull().sum())"
      ],
      "execution_count": 0,
      "outputs": [
        {
          "output_type": "stream",
          "text": [
            "enrollee_id                  0\n",
            "city                         0\n",
            "city_development_index       0\n",
            "gender                    4098\n",
            "relevent_experience          0\n",
            "enrolled_university        342\n",
            "education_level            457\n",
            "experience                  59\n",
            "company_type              5039\n",
            "last_new_job               367\n",
            "training_hours               0\n",
            "target                       0\n",
            "dtype: int64\n"
          ],
          "name": "stdout"
        }
      ]
    },
    {
      "cell_type": "markdown",
      "metadata": {
        "id": "dH5spu0fGGqG",
        "colab_type": "text"
      },
      "source": [
        "\n",
        " **Gender, enrolled_university, education_level,experience,company_type ,last_new_job has missing values**"
      ]
    },
    {
      "cell_type": "markdown",
      "metadata": {
        "id": "uJvM2lnNGXPt",
        "colab_type": "text"
      },
      "source": [
        "*We will be imputing the values using for different features with different methods.These are:*\n",
        "\n",
        "*   Imputing by mode\n",
        "*   Imputing by creating categorical bundles and assigning numerical values\n",
        "\n",
        "We will also be performing one-hot encoding to convert the categoricl features into numerical\n"
      ]
    },
    {
      "cell_type": "code",
      "metadata": {
        "id": "oMAHQEMMYWV3",
        "colab_type": "code",
        "colab": {}
      },
      "source": [
        "data['experience'].fillna(\"1\",inplace = True)\n",
        "data_test['experience'].fillna(\"1\",inplace = True)"
      ],
      "execution_count": 0,
      "outputs": []
    },
    {
      "cell_type": "code",
      "metadata": {
        "id": "Dngywzok_ROt",
        "colab_type": "code",
        "colab": {}
      },
      "source": [
        "data['gender'].fillna('Male',inplace = True)\n",
        "dummies_gender = pd.get_dummies(data['gender'])\n",
        "\n",
        "data_test['gender'].fillna('Male',inplace = True)\n",
        "dummies_gender_test = pd.get_dummies(data_test['gender'])\n"
      ],
      "execution_count": 0,
      "outputs": []
    },
    {
      "cell_type": "code",
      "metadata": {
        "id": "lzGp8n_O1cPc",
        "colab_type": "code",
        "colab": {}
      },
      "source": [
        "data['relevent_experience'].fillna('Has relevent experience',inplace = True)\n",
        "dummies_relexp = pd.get_dummies(data['relevent_experience'])\n",
        "\n",
        "data_test['relevent_experience'].fillna('Has relevent experience',inplace = True)\n",
        "dummies_relexp_test = pd.get_dummies(data_test['relevent_experience'])\n",
        "\n"
      ],
      "execution_count": 0,
      "outputs": []
    },
    {
      "cell_type": "code",
      "metadata": {
        "id": "QE8tl5qf6mSo",
        "colab_type": "code",
        "colab": {}
      },
      "source": [
        "data['enrolled_university'].fillna('no_enrollment',inplace = True)\n",
        "dummies_enruniv = pd.get_dummies(data['enrolled_university'])\n",
        "\n",
        "data_test['enrolled_university'].fillna('no_enrollment',inplace = True)\n",
        "dummies_enruniv_test = pd.get_dummies(data_test['enrolled_university'])"
      ],
      "execution_count": 0,
      "outputs": []
    },
    {
      "cell_type": "code",
      "metadata": {
        "id": "jBKUSyyUxQDJ",
        "colab_type": "code",
        "colab": {}
      },
      "source": [
        "data['education_level'].fillna('Graduate',inplace = True)\n",
        "dummies_edlevel = pd.get_dummies(data['education_level'])\n",
        "\n",
        "data_test['education_level'].fillna('Graduate',inplace = True)\n",
        "dummies_edlevel_test = pd.get_dummies(data_test['education_level'])"
      ],
      "execution_count": 0,
      "outputs": []
    },
    {
      "cell_type": "code",
      "metadata": {
        "id": "mpPNmrY5zB_Y",
        "colab_type": "code",
        "colab": {}
      },
      "source": [
        "data['last_new_job'].fillna(1,inplace = True)\n",
        "dummies_lastjob = pd.get_dummies(data['last_new_job'],prefix = 'last_')\n",
        "\n",
        "data_test['last_new_job'].fillna(1,inplace = True)\n",
        "dummies_lastjob_test = pd.get_dummies(data_test['last_new_job'],prefix = 'last_')"
      ],
      "execution_count": 0,
      "outputs": []
    },
    {
      "cell_type": "code",
      "metadata": {
        "id": "q_yzT8VeFOGi",
        "colab_type": "code",
        "colab": {}
      },
      "source": [
        "data['experience'].replace({\"1\":1,\"2\":1,\"3\":0,\"4\":0,\"19\":0,\"20\":0,\">20\":0,\"<1\":1,\"5\":0,\"6\":0,\"7\":0,\"8\":0,\"9\":0,\"10\":0,\"11\":0,\"12\":0,\"13\":0,\"14\":0,\"15\":0,\"16\":0,\"17\":0,\"18\":0},inplace = True)\n",
        "data_test['experience'].replace({\"1\":1,\"2\":1,\"3\":0,\"4\":0,\"19\":0,\"20\":0,\">20\":0,\"<1\":1,\"5\":0,\"6\":0,\"7\":0,\"8\":0,\"9\":0,\"10\":0,\"11\":0,\"12\":0,\"13\":0,\"14\":0,\"15\":0,\"16\":0,\"17\":0,\"18\":0},inplace = True)\n"
      ],
      "execution_count": 0,
      "outputs": []
    },
    {
      "cell_type": "code",
      "metadata": {
        "id": "aXcCktbsMCnk",
        "colab_type": "code",
        "colab": {}
      },
      "source": [
        "data['company_type'].fillna('Pvt Ltd',inplace = True)\n",
        "dummies_ctype = pd.get_dummies(data['company_type'])\n",
        "\n",
        "data_test['company_type'].fillna('Pvt Ltd',inplace = True)\n",
        "dummies_ctype_test = pd.get_dummies(data_test['company_type'])"
      ],
      "execution_count": 0,
      "outputs": []
    },
    {
      "cell_type": "code",
      "metadata": {
        "id": "uO2fDKQQz5wn",
        "colab_type": "code",
        "colab": {}
      },
      "source": [
        "merged = pd.concat([data,dummies_gender,dummies_relexp,dummies_enruniv,dummies_edlevel,dummies_ctype,dummies_lastjob],axis = 'columns')\n",
        "data = merged.drop(['city','gender','relevent_experience','enrolled_university','education_level','company_type','last_new_job'],axis = 'columns')\n",
        "\n",
        "merged_test = pd.concat([data_test,dummies_gender_test,dummies_relexp_test,dummies_enruniv_test,dummies_edlevel_test,dummies_ctype_test,dummies_lastjob_test],axis = 'columns')\n",
        "data_test = merged_test.drop(['city','gender','relevent_experience','enrolled_university','education_level','company_type','last_new_job'],axis = 'columns')\n",
        "\n"
      ],
      "execution_count": 0,
      "outputs": []
    },
    {
      "cell_type": "code",
      "metadata": {
        "id": "QQwdq0NWIOwB",
        "colab_type": "code",
        "outputId": "af2aa426-cbe6-41d8-b480-d8e22cf87c44",
        "colab": {
          "base_uri": "https://localhost:8080/",
          "height": 249
        }
      },
      "source": [
        "data.head()"
      ],
      "execution_count": 0,
      "outputs": [
        {
          "output_type": "execute_result",
          "data": {
            "text/html": [
              "<div>\n",
              "<style scoped>\n",
              "    .dataframe tbody tr th:only-of-type {\n",
              "        vertical-align: middle;\n",
              "    }\n",
              "\n",
              "    .dataframe tbody tr th {\n",
              "        vertical-align: top;\n",
              "    }\n",
              "\n",
              "    .dataframe thead th {\n",
              "        text-align: right;\n",
              "    }\n",
              "</style>\n",
              "<table border=\"1\" class=\"dataframe\">\n",
              "  <thead>\n",
              "    <tr style=\"text-align: right;\">\n",
              "      <th></th>\n",
              "      <th>enrollee_id</th>\n",
              "      <th>city_development_index</th>\n",
              "      <th>experience</th>\n",
              "      <th>training_hours</th>\n",
              "      <th>target</th>\n",
              "      <th>Female</th>\n",
              "      <th>Male</th>\n",
              "      <th>Other</th>\n",
              "      <th>Has relevent experience</th>\n",
              "      <th>No relevent experience</th>\n",
              "      <th>Full time course</th>\n",
              "      <th>Part time course</th>\n",
              "      <th>no_enrollment</th>\n",
              "      <th>Graduate</th>\n",
              "      <th>High School</th>\n",
              "      <th>Masters</th>\n",
              "      <th>Phd</th>\n",
              "      <th>Primary School</th>\n",
              "      <th>Early Stage Startup</th>\n",
              "      <th>Funded Startup</th>\n",
              "      <th>NGO</th>\n",
              "      <th>Other</th>\n",
              "      <th>Public Sector</th>\n",
              "      <th>Pvt Ltd</th>\n",
              "      <th>last__1</th>\n",
              "      <th>last__1</th>\n",
              "      <th>last__2</th>\n",
              "      <th>last__3</th>\n",
              "      <th>last__4</th>\n",
              "      <th>last__&gt;4</th>\n",
              "      <th>last__never</th>\n",
              "    </tr>\n",
              "  </thead>\n",
              "  <tbody>\n",
              "    <tr>\n",
              "      <th>0</th>\n",
              "      <td>23798</td>\n",
              "      <td>0.689</td>\n",
              "      <td>0</td>\n",
              "      <td>106</td>\n",
              "      <td>0</td>\n",
              "      <td>0</td>\n",
              "      <td>1</td>\n",
              "      <td>0</td>\n",
              "      <td>1</td>\n",
              "      <td>0</td>\n",
              "      <td>0</td>\n",
              "      <td>0</td>\n",
              "      <td>1</td>\n",
              "      <td>1</td>\n",
              "      <td>0</td>\n",
              "      <td>0</td>\n",
              "      <td>0</td>\n",
              "      <td>0</td>\n",
              "      <td>0</td>\n",
              "      <td>0</td>\n",
              "      <td>0</td>\n",
              "      <td>0</td>\n",
              "      <td>0</td>\n",
              "      <td>1</td>\n",
              "      <td>0</td>\n",
              "      <td>1</td>\n",
              "      <td>0</td>\n",
              "      <td>0</td>\n",
              "      <td>0</td>\n",
              "      <td>0</td>\n",
              "      <td>0</td>\n",
              "    </tr>\n",
              "    <tr>\n",
              "      <th>1</th>\n",
              "      <td>29166</td>\n",
              "      <td>0.923</td>\n",
              "      <td>0</td>\n",
              "      <td>69</td>\n",
              "      <td>0</td>\n",
              "      <td>0</td>\n",
              "      <td>1</td>\n",
              "      <td>0</td>\n",
              "      <td>1</td>\n",
              "      <td>0</td>\n",
              "      <td>0</td>\n",
              "      <td>0</td>\n",
              "      <td>1</td>\n",
              "      <td>1</td>\n",
              "      <td>0</td>\n",
              "      <td>0</td>\n",
              "      <td>0</td>\n",
              "      <td>0</td>\n",
              "      <td>0</td>\n",
              "      <td>1</td>\n",
              "      <td>0</td>\n",
              "      <td>0</td>\n",
              "      <td>0</td>\n",
              "      <td>0</td>\n",
              "      <td>0</td>\n",
              "      <td>1</td>\n",
              "      <td>0</td>\n",
              "      <td>0</td>\n",
              "      <td>0</td>\n",
              "      <td>0</td>\n",
              "      <td>0</td>\n",
              "    </tr>\n",
              "    <tr>\n",
              "      <th>2</th>\n",
              "      <td>46</td>\n",
              "      <td>0.910</td>\n",
              "      <td>0</td>\n",
              "      <td>4</td>\n",
              "      <td>0</td>\n",
              "      <td>0</td>\n",
              "      <td>1</td>\n",
              "      <td>0</td>\n",
              "      <td>1</td>\n",
              "      <td>0</td>\n",
              "      <td>0</td>\n",
              "      <td>0</td>\n",
              "      <td>1</td>\n",
              "      <td>1</td>\n",
              "      <td>0</td>\n",
              "      <td>0</td>\n",
              "      <td>0</td>\n",
              "      <td>0</td>\n",
              "      <td>0</td>\n",
              "      <td>0</td>\n",
              "      <td>0</td>\n",
              "      <td>0</td>\n",
              "      <td>1</td>\n",
              "      <td>0</td>\n",
              "      <td>0</td>\n",
              "      <td>0</td>\n",
              "      <td>1</td>\n",
              "      <td>0</td>\n",
              "      <td>0</td>\n",
              "      <td>0</td>\n",
              "      <td>0</td>\n",
              "    </tr>\n",
              "    <tr>\n",
              "      <th>3</th>\n",
              "      <td>18527</td>\n",
              "      <td>0.666</td>\n",
              "      <td>0</td>\n",
              "      <td>26</td>\n",
              "      <td>0</td>\n",
              "      <td>0</td>\n",
              "      <td>1</td>\n",
              "      <td>0</td>\n",
              "      <td>1</td>\n",
              "      <td>0</td>\n",
              "      <td>0</td>\n",
              "      <td>0</td>\n",
              "      <td>1</td>\n",
              "      <td>1</td>\n",
              "      <td>0</td>\n",
              "      <td>0</td>\n",
              "      <td>0</td>\n",
              "      <td>0</td>\n",
              "      <td>0</td>\n",
              "      <td>0</td>\n",
              "      <td>0</td>\n",
              "      <td>0</td>\n",
              "      <td>0</td>\n",
              "      <td>1</td>\n",
              "      <td>0</td>\n",
              "      <td>1</td>\n",
              "      <td>0</td>\n",
              "      <td>0</td>\n",
              "      <td>0</td>\n",
              "      <td>0</td>\n",
              "      <td>0</td>\n",
              "    </tr>\n",
              "    <tr>\n",
              "      <th>4</th>\n",
              "      <td>21751</td>\n",
              "      <td>0.887</td>\n",
              "      <td>0</td>\n",
              "      <td>88</td>\n",
              "      <td>1</td>\n",
              "      <td>0</td>\n",
              "      <td>1</td>\n",
              "      <td>0</td>\n",
              "      <td>0</td>\n",
              "      <td>1</td>\n",
              "      <td>0</td>\n",
              "      <td>0</td>\n",
              "      <td>1</td>\n",
              "      <td>0</td>\n",
              "      <td>0</td>\n",
              "      <td>1</td>\n",
              "      <td>0</td>\n",
              "      <td>0</td>\n",
              "      <td>0</td>\n",
              "      <td>0</td>\n",
              "      <td>0</td>\n",
              "      <td>0</td>\n",
              "      <td>0</td>\n",
              "      <td>1</td>\n",
              "      <td>0</td>\n",
              "      <td>0</td>\n",
              "      <td>1</td>\n",
              "      <td>0</td>\n",
              "      <td>0</td>\n",
              "      <td>0</td>\n",
              "      <td>0</td>\n",
              "    </tr>\n",
              "  </tbody>\n",
              "</table>\n",
              "</div>"
            ],
            "text/plain": [
              "   enrollee_id  city_development_index  ...  last__>4  last__never\n",
              "0        23798                   0.689  ...         0            0\n",
              "1        29166                   0.923  ...         0            0\n",
              "2           46                   0.910  ...         0            0\n",
              "3        18527                   0.666  ...         0            0\n",
              "4        21751                   0.887  ...         0            0\n",
              "\n",
              "[5 rows x 31 columns]"
            ]
          },
          "metadata": {
            "tags": []
          },
          "execution_count": 683
        }
      ]
    },
    {
      "cell_type": "code",
      "metadata": {
        "id": "7OV1eUvYJjmf",
        "colab_type": "code",
        "outputId": "059258a5-3039-4cca-b09d-8ca1cceca9b2",
        "colab": {
          "base_uri": "https://localhost:8080/",
          "height": 249
        }
      },
      "source": [
        "data_test.head()"
      ],
      "execution_count": 0,
      "outputs": [
        {
          "output_type": "execute_result",
          "data": {
            "text/html": [
              "<div>\n",
              "<style scoped>\n",
              "    .dataframe tbody tr th:only-of-type {\n",
              "        vertical-align: middle;\n",
              "    }\n",
              "\n",
              "    .dataframe tbody tr th {\n",
              "        vertical-align: top;\n",
              "    }\n",
              "\n",
              "    .dataframe thead th {\n",
              "        text-align: right;\n",
              "    }\n",
              "</style>\n",
              "<table border=\"1\" class=\"dataframe\">\n",
              "  <thead>\n",
              "    <tr style=\"text-align: right;\">\n",
              "      <th></th>\n",
              "      <th>enrollee_id</th>\n",
              "      <th>city_development_index</th>\n",
              "      <th>experience</th>\n",
              "      <th>training_hours</th>\n",
              "      <th>Female</th>\n",
              "      <th>Male</th>\n",
              "      <th>Other</th>\n",
              "      <th>Has relevent experience</th>\n",
              "      <th>No relevent experience</th>\n",
              "      <th>Full time course</th>\n",
              "      <th>Part time course</th>\n",
              "      <th>no_enrollment</th>\n",
              "      <th>Graduate</th>\n",
              "      <th>High School</th>\n",
              "      <th>Masters</th>\n",
              "      <th>Phd</th>\n",
              "      <th>Primary School</th>\n",
              "      <th>Early Stage Startup</th>\n",
              "      <th>Funded Startup</th>\n",
              "      <th>NGO</th>\n",
              "      <th>Other</th>\n",
              "      <th>Public Sector</th>\n",
              "      <th>Pvt Ltd</th>\n",
              "      <th>last__1</th>\n",
              "      <th>last__1</th>\n",
              "      <th>last__2</th>\n",
              "      <th>last__3</th>\n",
              "      <th>last__4</th>\n",
              "      <th>last__&gt;4</th>\n",
              "      <th>last__never</th>\n",
              "    </tr>\n",
              "  </thead>\n",
              "  <tbody>\n",
              "    <tr>\n",
              "      <th>0</th>\n",
              "      <td>16548</td>\n",
              "      <td>0.448</td>\n",
              "      <td>1</td>\n",
              "      <td>15</td>\n",
              "      <td>0</td>\n",
              "      <td>1</td>\n",
              "      <td>0</td>\n",
              "      <td>0</td>\n",
              "      <td>1</td>\n",
              "      <td>1</td>\n",
              "      <td>0</td>\n",
              "      <td>0</td>\n",
              "      <td>1</td>\n",
              "      <td>0</td>\n",
              "      <td>0</td>\n",
              "      <td>0</td>\n",
              "      <td>0</td>\n",
              "      <td>0</td>\n",
              "      <td>0</td>\n",
              "      <td>0</td>\n",
              "      <td>0</td>\n",
              "      <td>1</td>\n",
              "      <td>0</td>\n",
              "      <td>1</td>\n",
              "      <td>0</td>\n",
              "      <td>0</td>\n",
              "      <td>0</td>\n",
              "      <td>0</td>\n",
              "      <td>0</td>\n",
              "      <td>0</td>\n",
              "    </tr>\n",
              "    <tr>\n",
              "      <th>1</th>\n",
              "      <td>12036</td>\n",
              "      <td>0.939</td>\n",
              "      <td>0</td>\n",
              "      <td>94</td>\n",
              "      <td>0</td>\n",
              "      <td>1</td>\n",
              "      <td>0</td>\n",
              "      <td>0</td>\n",
              "      <td>1</td>\n",
              "      <td>0</td>\n",
              "      <td>0</td>\n",
              "      <td>1</td>\n",
              "      <td>1</td>\n",
              "      <td>0</td>\n",
              "      <td>0</td>\n",
              "      <td>0</td>\n",
              "      <td>0</td>\n",
              "      <td>0</td>\n",
              "      <td>0</td>\n",
              "      <td>0</td>\n",
              "      <td>0</td>\n",
              "      <td>0</td>\n",
              "      <td>1</td>\n",
              "      <td>0</td>\n",
              "      <td>1</td>\n",
              "      <td>0</td>\n",
              "      <td>0</td>\n",
              "      <td>0</td>\n",
              "      <td>0</td>\n",
              "      <td>0</td>\n",
              "    </tr>\n",
              "    <tr>\n",
              "      <th>2</th>\n",
              "      <td>11061</td>\n",
              "      <td>0.920</td>\n",
              "      <td>0</td>\n",
              "      <td>17</td>\n",
              "      <td>0</td>\n",
              "      <td>1</td>\n",
              "      <td>0</td>\n",
              "      <td>0</td>\n",
              "      <td>1</td>\n",
              "      <td>1</td>\n",
              "      <td>0</td>\n",
              "      <td>0</td>\n",
              "      <td>1</td>\n",
              "      <td>0</td>\n",
              "      <td>0</td>\n",
              "      <td>0</td>\n",
              "      <td>0</td>\n",
              "      <td>0</td>\n",
              "      <td>0</td>\n",
              "      <td>0</td>\n",
              "      <td>0</td>\n",
              "      <td>0</td>\n",
              "      <td>1</td>\n",
              "      <td>0</td>\n",
              "      <td>1</td>\n",
              "      <td>0</td>\n",
              "      <td>0</td>\n",
              "      <td>0</td>\n",
              "      <td>0</td>\n",
              "      <td>0</td>\n",
              "    </tr>\n",
              "    <tr>\n",
              "      <th>3</th>\n",
              "      <td>5032</td>\n",
              "      <td>0.924</td>\n",
              "      <td>0</td>\n",
              "      <td>76</td>\n",
              "      <td>0</td>\n",
              "      <td>1</td>\n",
              "      <td>0</td>\n",
              "      <td>0</td>\n",
              "      <td>1</td>\n",
              "      <td>0</td>\n",
              "      <td>0</td>\n",
              "      <td>1</td>\n",
              "      <td>0</td>\n",
              "      <td>0</td>\n",
              "      <td>0</td>\n",
              "      <td>1</td>\n",
              "      <td>0</td>\n",
              "      <td>0</td>\n",
              "      <td>0</td>\n",
              "      <td>0</td>\n",
              "      <td>0</td>\n",
              "      <td>0</td>\n",
              "      <td>1</td>\n",
              "      <td>0</td>\n",
              "      <td>0</td>\n",
              "      <td>1</td>\n",
              "      <td>0</td>\n",
              "      <td>0</td>\n",
              "      <td>0</td>\n",
              "      <td>0</td>\n",
              "    </tr>\n",
              "    <tr>\n",
              "      <th>4</th>\n",
              "      <td>17599</td>\n",
              "      <td>0.830</td>\n",
              "      <td>0</td>\n",
              "      <td>65</td>\n",
              "      <td>0</td>\n",
              "      <td>1</td>\n",
              "      <td>0</td>\n",
              "      <td>1</td>\n",
              "      <td>0</td>\n",
              "      <td>0</td>\n",
              "      <td>0</td>\n",
              "      <td>1</td>\n",
              "      <td>1</td>\n",
              "      <td>0</td>\n",
              "      <td>0</td>\n",
              "      <td>0</td>\n",
              "      <td>0</td>\n",
              "      <td>0</td>\n",
              "      <td>0</td>\n",
              "      <td>0</td>\n",
              "      <td>0</td>\n",
              "      <td>0</td>\n",
              "      <td>1</td>\n",
              "      <td>0</td>\n",
              "      <td>0</td>\n",
              "      <td>1</td>\n",
              "      <td>0</td>\n",
              "      <td>0</td>\n",
              "      <td>0</td>\n",
              "      <td>0</td>\n",
              "    </tr>\n",
              "  </tbody>\n",
              "</table>\n",
              "</div>"
            ],
            "text/plain": [
              "   enrollee_id  city_development_index  ...  last__>4  last__never\n",
              "0        16548                   0.448  ...         0            0\n",
              "1        12036                   0.939  ...         0            0\n",
              "2        11061                   0.920  ...         0            0\n",
              "3         5032                   0.924  ...         0            0\n",
              "4        17599                   0.830  ...         0            0\n",
              "\n",
              "[5 rows x 30 columns]"
            ]
          },
          "metadata": {
            "tags": []
          },
          "execution_count": 684
        }
      ]
    },
    {
      "cell_type": "code",
      "metadata": {
        "id": "P49s-eO76qRD",
        "colab_type": "code",
        "outputId": "79f7a457-817f-495f-d532-8ffa704b202b",
        "colab": {
          "base_uri": "https://localhost:8080/",
          "height": 54
        }
      },
      "source": [
        "\n",
        "col_list = data.columns[1:]\n",
        "col_list_test = data_test.columns[1:]\n",
        "\n",
        "col = col_list.to_list()\n",
        "col_test = col_list_test.to_list()\n",
        "print(col,col_test)"
      ],
      "execution_count": 0,
      "outputs": [
        {
          "output_type": "stream",
          "text": [
            "['city_development_index', 'experience', 'training_hours', 'target', 'Female', 'Male', 'Other', 'Has relevent experience', 'No relevent experience', 'Full time course', 'Part time course', 'no_enrollment', 'Graduate', 'High School', 'Masters', 'Phd', 'Primary School', 'Early Stage Startup', 'Funded Startup', 'NGO', 'Other', 'Public Sector', 'Pvt Ltd', 'last__1', 'last__1', 'last__2', 'last__3', 'last__4', 'last__>4', 'last__never'] ['city_development_index', 'experience', 'training_hours', 'Female', 'Male', 'Other', 'Has relevent experience', 'No relevent experience', 'Full time course', 'Part time course', 'no_enrollment', 'Graduate', 'High School', 'Masters', 'Phd', 'Primary School', 'Early Stage Startup', 'Funded Startup', 'NGO', 'Other', 'Public Sector', 'Pvt Ltd', 'last__1', 'last__1', 'last__2', 'last__3', 'last__4', 'last__>4', 'last__never']\n"
          ],
          "name": "stdout"
        }
      ]
    },
    {
      "cell_type": "code",
      "metadata": {
        "id": "_TJbU3PW2YiD",
        "colab_type": "code",
        "colab": {}
      },
      "source": [
        "\n",
        "scaler = preprocessing.MinMaxScaler(feature_range=(0, 1))\n",
        "data[col] = scaler.fit_transform(data[col])\n",
        "data = pd.DataFrame(data)\n",
        "col.insert(0,'enrollee_id')\n",
        "data.columns = col\n",
        "\n",
        "data_test[col_test] = scaler.fit_transform(data_test[col_test])\n",
        "data_test = pd.DataFrame(data_test)\n",
        "col_test.insert(0,'enrollee_id')\n",
        "data_test.columns = col_test"
      ],
      "execution_count": 0,
      "outputs": []
    },
    {
      "cell_type": "code",
      "metadata": {
        "id": "vbgE5-ZW0S7I",
        "colab_type": "code",
        "outputId": "a60089d0-21ba-471b-ddff-32b9af5d26d9",
        "colab": {
          "base_uri": "https://localhost:8080/",
          "height": 249
        }
      },
      "source": [
        "data.head()"
      ],
      "execution_count": 0,
      "outputs": [
        {
          "output_type": "execute_result",
          "data": {
            "text/html": [
              "<div>\n",
              "<style scoped>\n",
              "    .dataframe tbody tr th:only-of-type {\n",
              "        vertical-align: middle;\n",
              "    }\n",
              "\n",
              "    .dataframe tbody tr th {\n",
              "        vertical-align: top;\n",
              "    }\n",
              "\n",
              "    .dataframe thead th {\n",
              "        text-align: right;\n",
              "    }\n",
              "</style>\n",
              "<table border=\"1\" class=\"dataframe\">\n",
              "  <thead>\n",
              "    <tr style=\"text-align: right;\">\n",
              "      <th></th>\n",
              "      <th>enrollee_id</th>\n",
              "      <th>city_development_index</th>\n",
              "      <th>experience</th>\n",
              "      <th>training_hours</th>\n",
              "      <th>target</th>\n",
              "      <th>Female</th>\n",
              "      <th>Male</th>\n",
              "      <th>Other</th>\n",
              "      <th>Has relevent experience</th>\n",
              "      <th>No relevent experience</th>\n",
              "      <th>Full time course</th>\n",
              "      <th>Part time course</th>\n",
              "      <th>no_enrollment</th>\n",
              "      <th>Graduate</th>\n",
              "      <th>High School</th>\n",
              "      <th>Masters</th>\n",
              "      <th>Phd</th>\n",
              "      <th>Primary School</th>\n",
              "      <th>Early Stage Startup</th>\n",
              "      <th>Funded Startup</th>\n",
              "      <th>NGO</th>\n",
              "      <th>Other</th>\n",
              "      <th>Public Sector</th>\n",
              "      <th>Pvt Ltd</th>\n",
              "      <th>last__1</th>\n",
              "      <th>last__1</th>\n",
              "      <th>last__2</th>\n",
              "      <th>last__3</th>\n",
              "      <th>last__4</th>\n",
              "      <th>last__&gt;4</th>\n",
              "      <th>last__never</th>\n",
              "    </tr>\n",
              "  </thead>\n",
              "  <tbody>\n",
              "    <tr>\n",
              "      <th>0</th>\n",
              "      <td>23798</td>\n",
              "      <td>0.481038</td>\n",
              "      <td>0.0</td>\n",
              "      <td>0.313433</td>\n",
              "      <td>0.0</td>\n",
              "      <td>0.0</td>\n",
              "      <td>1.0</td>\n",
              "      <td>0.0</td>\n",
              "      <td>1.0</td>\n",
              "      <td>0.0</td>\n",
              "      <td>0.0</td>\n",
              "      <td>0.0</td>\n",
              "      <td>1.0</td>\n",
              "      <td>1.0</td>\n",
              "      <td>0.0</td>\n",
              "      <td>0.0</td>\n",
              "      <td>0.0</td>\n",
              "      <td>0.0</td>\n",
              "      <td>0.0</td>\n",
              "      <td>0.0</td>\n",
              "      <td>0.0</td>\n",
              "      <td>0.0</td>\n",
              "      <td>0.0</td>\n",
              "      <td>1.0</td>\n",
              "      <td>1.0</td>\n",
              "      <td>1.0</td>\n",
              "      <td>0.0</td>\n",
              "      <td>0.0</td>\n",
              "      <td>0.0</td>\n",
              "      <td>0.0</td>\n",
              "      <td>0.0</td>\n",
              "    </tr>\n",
              "    <tr>\n",
              "      <th>1</th>\n",
              "      <td>29166</td>\n",
              "      <td>0.948104</td>\n",
              "      <td>0.0</td>\n",
              "      <td>0.202985</td>\n",
              "      <td>0.0</td>\n",
              "      <td>0.0</td>\n",
              "      <td>1.0</td>\n",
              "      <td>0.0</td>\n",
              "      <td>1.0</td>\n",
              "      <td>0.0</td>\n",
              "      <td>0.0</td>\n",
              "      <td>0.0</td>\n",
              "      <td>1.0</td>\n",
              "      <td>1.0</td>\n",
              "      <td>0.0</td>\n",
              "      <td>0.0</td>\n",
              "      <td>0.0</td>\n",
              "      <td>0.0</td>\n",
              "      <td>0.0</td>\n",
              "      <td>1.0</td>\n",
              "      <td>0.0</td>\n",
              "      <td>0.0</td>\n",
              "      <td>0.0</td>\n",
              "      <td>0.0</td>\n",
              "      <td>1.0</td>\n",
              "      <td>1.0</td>\n",
              "      <td>0.0</td>\n",
              "      <td>0.0</td>\n",
              "      <td>0.0</td>\n",
              "      <td>0.0</td>\n",
              "      <td>0.0</td>\n",
              "    </tr>\n",
              "    <tr>\n",
              "      <th>2</th>\n",
              "      <td>46</td>\n",
              "      <td>0.922156</td>\n",
              "      <td>0.0</td>\n",
              "      <td>0.008955</td>\n",
              "      <td>0.0</td>\n",
              "      <td>0.0</td>\n",
              "      <td>1.0</td>\n",
              "      <td>0.0</td>\n",
              "      <td>1.0</td>\n",
              "      <td>0.0</td>\n",
              "      <td>0.0</td>\n",
              "      <td>0.0</td>\n",
              "      <td>1.0</td>\n",
              "      <td>1.0</td>\n",
              "      <td>0.0</td>\n",
              "      <td>0.0</td>\n",
              "      <td>0.0</td>\n",
              "      <td>0.0</td>\n",
              "      <td>0.0</td>\n",
              "      <td>0.0</td>\n",
              "      <td>0.0</td>\n",
              "      <td>0.0</td>\n",
              "      <td>1.0</td>\n",
              "      <td>0.0</td>\n",
              "      <td>0.0</td>\n",
              "      <td>0.0</td>\n",
              "      <td>1.0</td>\n",
              "      <td>0.0</td>\n",
              "      <td>0.0</td>\n",
              "      <td>0.0</td>\n",
              "      <td>0.0</td>\n",
              "    </tr>\n",
              "    <tr>\n",
              "      <th>3</th>\n",
              "      <td>18527</td>\n",
              "      <td>0.435130</td>\n",
              "      <td>0.0</td>\n",
              "      <td>0.074627</td>\n",
              "      <td>0.0</td>\n",
              "      <td>0.0</td>\n",
              "      <td>1.0</td>\n",
              "      <td>0.0</td>\n",
              "      <td>1.0</td>\n",
              "      <td>0.0</td>\n",
              "      <td>0.0</td>\n",
              "      <td>0.0</td>\n",
              "      <td>1.0</td>\n",
              "      <td>1.0</td>\n",
              "      <td>0.0</td>\n",
              "      <td>0.0</td>\n",
              "      <td>0.0</td>\n",
              "      <td>0.0</td>\n",
              "      <td>0.0</td>\n",
              "      <td>0.0</td>\n",
              "      <td>0.0</td>\n",
              "      <td>0.0</td>\n",
              "      <td>0.0</td>\n",
              "      <td>1.0</td>\n",
              "      <td>1.0</td>\n",
              "      <td>1.0</td>\n",
              "      <td>0.0</td>\n",
              "      <td>0.0</td>\n",
              "      <td>0.0</td>\n",
              "      <td>0.0</td>\n",
              "      <td>0.0</td>\n",
              "    </tr>\n",
              "    <tr>\n",
              "      <th>4</th>\n",
              "      <td>21751</td>\n",
              "      <td>0.876248</td>\n",
              "      <td>0.0</td>\n",
              "      <td>0.259701</td>\n",
              "      <td>1.0</td>\n",
              "      <td>0.0</td>\n",
              "      <td>1.0</td>\n",
              "      <td>0.0</td>\n",
              "      <td>0.0</td>\n",
              "      <td>1.0</td>\n",
              "      <td>0.0</td>\n",
              "      <td>0.0</td>\n",
              "      <td>1.0</td>\n",
              "      <td>0.0</td>\n",
              "      <td>0.0</td>\n",
              "      <td>1.0</td>\n",
              "      <td>0.0</td>\n",
              "      <td>0.0</td>\n",
              "      <td>0.0</td>\n",
              "      <td>0.0</td>\n",
              "      <td>0.0</td>\n",
              "      <td>0.0</td>\n",
              "      <td>0.0</td>\n",
              "      <td>1.0</td>\n",
              "      <td>0.0</td>\n",
              "      <td>0.0</td>\n",
              "      <td>1.0</td>\n",
              "      <td>0.0</td>\n",
              "      <td>0.0</td>\n",
              "      <td>0.0</td>\n",
              "      <td>0.0</td>\n",
              "    </tr>\n",
              "  </tbody>\n",
              "</table>\n",
              "</div>"
            ],
            "text/plain": [
              "   enrollee_id  city_development_index  ...  last__>4  last__never\n",
              "0        23798                0.481038  ...       0.0          0.0\n",
              "1        29166                0.948104  ...       0.0          0.0\n",
              "2           46                0.922156  ...       0.0          0.0\n",
              "3        18527                0.435130  ...       0.0          0.0\n",
              "4        21751                0.876248  ...       0.0          0.0\n",
              "\n",
              "[5 rows x 31 columns]"
            ]
          },
          "metadata": {
            "tags": []
          },
          "execution_count": 687
        }
      ]
    },
    {
      "cell_type": "markdown",
      "metadata": {
        "id": "qW3DfpGBDrIq",
        "colab_type": "text"
      },
      "source": [
        "**Let us look for imbalance in our dataset. We will calculate the unique count of label categories in the dataset **"
      ]
    },
    {
      "cell_type": "code",
      "metadata": {
        "id": "XbsBkoJ8EJpZ",
        "colab_type": "code",
        "outputId": "4b898f74-0a5d-4c93-c6a3-44f8191d14f4",
        "colab": {
          "base_uri": "https://localhost:8080/",
          "height": 67
        }
      },
      "source": [
        "print(\"target data:\",data['target'].value_counts())\n"
      ],
      "execution_count": 0,
      "outputs": [
        {
          "output_type": "stream",
          "text": [
            "target data: 0.0    15934\n",
            "1.0     2425\n",
            "Name: target, dtype: int64\n"
          ],
          "name": "stdout"
        }
      ]
    },
    {
      "cell_type": "markdown",
      "metadata": {
        "id": "Q0yFLDUgFReK",
        "colab_type": "text"
      },
      "source": [
        "*Clearly there is a lot of imbalance between categories, which may cause biasing in the models. There is a need to balance the dataset.\n",
        "We will use upsampling of minority class*"
      ]
    },
    {
      "cell_type": "code",
      "metadata": {
        "id": "7QbxRlhJWRwA",
        "colab_type": "code",
        "outputId": "0e758f5c-3575-46bc-c6c3-d658e66b756c",
        "colab": {
          "base_uri": "https://localhost:8080/",
          "height": 470
        }
      },
      "source": [
        "from sklearn.utils import resample\n",
        "df_majority = data[data.target==0]\n",
        "df_minority = data[data.target==1]\n",
        "print(df_majority,df_minority)\n",
        "# Upsample minority class\n",
        "\n",
        " "
      ],
      "execution_count": 0,
      "outputs": [
        {
          "output_type": "stream",
          "text": [
            "       enrollee_id  city_development_index  ...  last__>4  last__never\n",
            "0            23798                0.481038  ...       0.0          0.0\n",
            "1            29166                0.948104  ...       0.0          0.0\n",
            "2               46                0.922156  ...       0.0          0.0\n",
            "3            18527                0.435130  ...       0.0          0.0\n",
            "5            13342                0.351297  ...       0.0          0.0\n",
            "...            ...                     ...  ...       ...          ...\n",
            "18354        25366                0.942116  ...       0.0          0.0\n",
            "18355        25545                0.942116  ...       0.0          0.0\n",
            "18356        11514                0.954092  ...       0.0          0.0\n",
            "18357         1689                0.980040  ...       0.0          0.0\n",
            "18358         5995                0.690619  ...       0.0          0.0\n",
            "\n",
            "[15934 rows x 31 columns]        enrollee_id  city_development_index  ...  last__>4  last__never\n",
            "4            21751                0.876248  ...       0.0          0.0\n",
            "6            11746                0.351297  ...       0.0          0.0\n",
            "24            3472                0.922156  ...       1.0          0.0\n",
            "38           32506                0.481038  ...       0.0          0.0\n",
            "40            5104                0.980040  ...       0.0          0.0\n",
            "...            ...                     ...  ...       ...          ...\n",
            "18315        30649                0.499002  ...       0.0          0.0\n",
            "18326        15199                0.942116  ...       0.0          0.0\n",
            "18329        22908                0.896208  ...       0.0          0.0\n",
            "18342        12930                0.610778  ...       0.0          0.0\n",
            "18349         1448                0.654691  ...       1.0          0.0\n",
            "\n",
            "[2425 rows x 31 columns]\n"
          ],
          "name": "stdout"
        }
      ]
    },
    {
      "cell_type": "code",
      "metadata": {
        "id": "9P7pErL-WfKa",
        "colab_type": "code",
        "outputId": "0151440d-3be4-40a7-fff9-a1444b955e42",
        "colab": {
          "base_uri": "https://localhost:8080/",
          "height": 655
        }
      },
      "source": [
        "df_minority_upsampled = resample(df_minority, \n",
        "                                 replace=True,     # sample with replacement\n",
        "                                 n_samples=15934,    # to match majority class\n",
        "                                 random_state=123) # reproducible results\n",
        " \n",
        "# Combine majority class with upsampled minority class\n",
        "data = pd.concat([df_majority, df_minority_upsampled])\n",
        "data.info()"
      ],
      "execution_count": 0,
      "outputs": [
        {
          "output_type": "stream",
          "text": [
            "<class 'pandas.core.frame.DataFrame'>\n",
            "Int64Index: 31868 entries, 0 to 17796\n",
            "Data columns (total 31 columns):\n",
            " #   Column                   Non-Null Count  Dtype  \n",
            "---  ------                   --------------  -----  \n",
            " 0   enrollee_id              31868 non-null  int64  \n",
            " 1   city_development_index   31868 non-null  float64\n",
            " 2   experience               31868 non-null  float64\n",
            " 3   training_hours           31868 non-null  float64\n",
            " 4   target                   31868 non-null  float64\n",
            " 5   Female                   31868 non-null  float64\n",
            " 6   Male                     31868 non-null  float64\n",
            " 7   Other                    31868 non-null  float64\n",
            " 8   Has relevent experience  31868 non-null  float64\n",
            " 9   No relevent experience   31868 non-null  float64\n",
            " 10  Full time course         31868 non-null  float64\n",
            " 11  Part time course         31868 non-null  float64\n",
            " 12  no_enrollment            31868 non-null  float64\n",
            " 13  Graduate                 31868 non-null  float64\n",
            " 14  High School              31868 non-null  float64\n",
            " 15  Masters                  31868 non-null  float64\n",
            " 16  Phd                      31868 non-null  float64\n",
            " 17  Primary School           31868 non-null  float64\n",
            " 18  Early Stage Startup      31868 non-null  float64\n",
            " 19  Funded Startup           31868 non-null  float64\n",
            " 20  NGO                      31868 non-null  float64\n",
            " 21  Other                    31868 non-null  float64\n",
            " 22  Public Sector            31868 non-null  float64\n",
            " 23  Pvt Ltd                  31868 non-null  float64\n",
            " 24  last__1                  31868 non-null  float64\n",
            " 25  last__1                  31868 non-null  float64\n",
            " 26  last__2                  31868 non-null  float64\n",
            " 27  last__3                  31868 non-null  float64\n",
            " 28  last__4                  31868 non-null  float64\n",
            " 29  last__>4                 31868 non-null  float64\n",
            " 30  last__never              31868 non-null  float64\n",
            "dtypes: float64(30), int64(1)\n",
            "memory usage: 7.8 MB\n"
          ],
          "name": "stdout"
        }
      ]
    },
    {
      "cell_type": "markdown",
      "metadata": {
        "id": "EW2LubIsFkhx",
        "colab_type": "text"
      },
      "source": [
        "**Now that our analysis is complete and dataset is balanced, let us move to the next step**"
      ]
    },
    {
      "cell_type": "markdown",
      "metadata": {
        "id": "tQPvHwOK2PUv",
        "colab_type": "text"
      },
      "source": [
        "# Implementing Machine Learning models"
      ]
    },
    {
      "cell_type": "markdown",
      "metadata": {
        "id": "0I1JA83RXaI-",
        "colab_type": "text"
      },
      "source": [
        "*Since the parameter on which scores will be decided is roc_auc_score we will also rate the models on the same*"
      ]
    },
    {
      "cell_type": "code",
      "metadata": {
        "id": "Qyj7oOKk-zXh",
        "colab_type": "code",
        "outputId": "b317a755-9559-4f08-ea14-d4334b6c5ff7",
        "colab": {
          "base_uri": "https://localhost:8080/",
          "height": 50
        }
      },
      "source": [
        "from sklearn.model_selection import train_test_split\n",
        "x = data.drop(['enrollee_id','target','last__1'], axis = 'columns')\n",
        "\n",
        "y = data['target']\n",
        "x_train, x_val, y_train, y_val = train_test_split(x, y, test_size=0.2,random_state = 42,stratify = y)\n",
        "\n",
        "print(x_train.shape, y_train.shape)\n",
        "print(x_val.shape, y_val.shape)"
      ],
      "execution_count": 0,
      "outputs": [
        {
          "output_type": "stream",
          "text": [
            "(25494, 27) (25494,)\n",
            "(6374, 27) (6374,)\n"
          ],
          "name": "stdout"
        }
      ]
    },
    {
      "cell_type": "code",
      "metadata": {
        "id": "34DLoL0j2U2T",
        "colab_type": "code",
        "outputId": "606c3a4d-f2ab-4521-9b99-710642c3824e",
        "colab": {
          "base_uri": "https://localhost:8080/",
          "height": 34
        }
      },
      "source": [
        "#Logistic Regression\n",
        "from sklearn.linear_model import LogisticRegression\n",
        "from sklearn.metrics import roc_curve\n",
        "from sklearn.metrics import roc_auc_score\n",
        "lr = LogisticRegression(C=0.001,random_state = 0)\n",
        "lr.fit(x_train,y_train)\n",
        "\n",
        "lr_probs = lr.predict_proba(x_val)\n",
        "lr_probs = lr_probs[:, 1]\n",
        "lr_auc = roc_auc_score(y_val, lr_probs)\n",
        "\n",
        "lr_auc\n"
      ],
      "execution_count": 0,
      "outputs": [
        {
          "output_type": "execute_result",
          "data": {
            "text/plain": [
              "0.616129674118332"
            ]
          },
          "metadata": {
            "tags": []
          },
          "execution_count": 693
        }
      ]
    },
    {
      "cell_type": "code",
      "metadata": {
        "id": "j7PqgqUbEEiR",
        "colab_type": "code",
        "outputId": "12f1a5da-3536-4c19-b316-f11ced4a9b6b",
        "colab": {
          "base_uri": "https://localhost:8080/",
          "height": 279
        }
      },
      "source": [
        "lr_fpr, lr_tpr, _ = roc_curve(y_val, lr_probs)\n",
        "plt.plot(lr_fpr, lr_tpr, marker='.', label='Logistic')\n",
        "# axis labels\n",
        "plt.xlabel('False Positive Rate')\n",
        "plt.ylabel('True Positive Rate')\n",
        "# show the legend\n",
        "plt.legend()\n",
        "# show the plot"
      ],
      "execution_count": 0,
      "outputs": [
        {
          "output_type": "display_data",
          "data": {
            "image/png": "[encoded data removed]",
            "text/plain": [
              "<Figure size 432x288 with 1 Axes>"
            ]
          },
          "metadata": {
            "tags": [],
            "needs_background": "light"
          }
        }
      ]
    },
    {
      "cell_type": "code",
      "metadata": {
        "id": "dmlH3Ni6uhZK",
        "colab_type": "code",
        "outputId": "ab2b288f-631d-49e1-8a11-1247cd6fe45b",
        "colab": {
          "base_uri": "https://localhost:8080/",
          "height": 34
        }
      },
      "source": [
        "#Random Forest\n",
        "from sklearn.ensemble import RandomForestClassifier\n",
        "rf = RandomForestClassifier(n_estimators = 50, min_samples_leaf = 1,random_state = 0)\n",
        "rf.fit(x_train,y_train)\n",
        "\n",
        "rf_probs = rf.predict_proba(x_val)\n",
        "rf_probs = rf_probs[:, 1]\n",
        "rf_auc = roc_auc_score(y_val, rf_probs)\n",
        "\n",
        "rf_auc"
      ],
      "execution_count": 0,
      "outputs": [
        {
          "output_type": "execute_result",
          "data": {
            "text/plain": [
              "0.9759495180107373"
            ]
          },
          "metadata": {
            "tags": []
          },
          "execution_count": 695
        }
      ]
    },
    {
      "cell_type": "code",
      "metadata": {
        "id": "ObIFAf_Lag-T",
        "colab_type": "code",
        "outputId": "39ea38ac-2230-4b72-e25c-171311fb7bdf",
        "colab": {
          "base_uri": "https://localhost:8080/",
          "height": 279
        }
      },
      "source": [
        "rf_fpr, rf_tpr, _ = roc_curve(y_val, rf_probs)\n",
        "plt.plot(rf_fpr, rf_tpr, marker='.', label='Logistic')\n",
        "# axis labels\n",
        "plt.xlabel('False Positive Rate')\n",
        "plt.ylabel('True Positive Rate')\n",
        "# show the legend\n",
        "plt.legend()\n",
        "# show the plot\n",
        "plt.show()"
      ],
      "execution_count": 0,
      "outputs": [
        {
          "output_type": "display_data",
          "data": {
            "image/png": "[encoded data removed]",
            "text/plain": [
              "<Figure size 432x288 with 1 Axes>"
            ]
          },
          "metadata": {
            "tags": [],
            "needs_background": "light"
          }
        }
      ]
    },
    {
      "cell_type": "code",
      "metadata": {
        "id": "deZxQ4xz2Xde",
        "colab_type": "code",
        "outputId": "1e983260-d0f4-49a5-f5f1-c66ef966da62",
        "colab": {
          "base_uri": "https://localhost:8080/",
          "height": 34
        }
      },
      "source": [
        "#Decision Tree\n",
        "\n",
        "from sklearn.tree import DecisionTreeClassifier\n",
        "dt = DecisionTreeClassifier()\n",
        "dt.fit(x_train,y_train)\n",
        "\n",
        "dt_probs = dt.predict_proba(x_val)\n",
        "dt_probs = dt_probs[:, 1]\n",
        "dt_auc = roc_auc_score(y_val, dt_probs)\n",
        "\n",
        "dt_auc"
      ],
      "execution_count": 0,
      "outputs": [
        {
          "output_type": "execute_result",
          "data": {
            "text/plain": [
              "0.9151056284606165"
            ]
          },
          "metadata": {
            "tags": []
          },
          "execution_count": 698
        }
      ]
    },
    {
      "cell_type": "code",
      "metadata": {
        "id": "5AJFBIprPK_v",
        "colab_type": "code",
        "outputId": "37fbdc25-685e-4973-8779-f00169883162",
        "colab": {
          "base_uri": "https://localhost:8080/",
          "height": 279
        }
      },
      "source": [
        "dt_fpr, dt_tpr, _ = roc_curve(y_val, dt_probs)\n",
        "plt.plot(dt_fpr, dt_tpr, marker='.', label='Decision Tree')\n",
        "# axis labels\n",
        "plt.xlabel('False Positive Rate')\n",
        "plt.ylabel('True Positive Rate')\n",
        "# show the legend\n",
        "plt.legend()\n",
        "# show the plot\n",
        "plt.show()"
      ],
      "execution_count": 0,
      "outputs": [
        {
          "output_type": "display_data",
          "data": {
            "image/png": "[encoded data removed]",
            "text/plain": [
              "<Figure size 432x288 with 1 Axes>"
            ]
          },
          "metadata": {
            "tags": [],
            "needs_background": "light"
          }
        }
      ]
    },
    {
      "cell_type": "code",
      "metadata": {
        "id": "fIt62_cmbTPr",
        "colab_type": "code",
        "outputId": "96380268-0224-4e10-e61b-da6d55c452da",
        "colab": {
          "base_uri": "https://localhost:8080/",
          "height": 34
        }
      },
      "source": [
        "from sklearn.naive_bayes import BernoulliNB\n",
        "bnb = BernoulliNB(binarize=0.55)\n",
        "bnb.fit(x_train,y_train)\n",
        "bnb_probs = bnb.predict_proba(x_val)\n",
        "bnb_probs = bnb_probs[:, 1]\n",
        "bnb_auc = roc_auc_score(y_val, bnb_probs)\n",
        "\n",
        "bnb_auc"
      ],
      "execution_count": 0,
      "outputs": [
        {
          "output_type": "execute_result",
          "data": {
            "text/plain": [
              "0.611417786152542"
            ]
          },
          "metadata": {
            "tags": []
          },
          "execution_count": 699
        }
      ]
    },
    {
      "cell_type": "code",
      "metadata": {
        "id": "qz_vXTTKPac8",
        "colab_type": "code",
        "outputId": "7fe2b0e6-c0ca-44c1-d976-087f3cc1ee58",
        "colab": {
          "base_uri": "https://localhost:8080/",
          "height": 279
        }
      },
      "source": [
        "bnb_fpr, bnb_tpr, _ = roc_curve(y_val, bnb_probs)\n",
        "plt.plot(bnb_fpr, bnb_tpr, marker='.', label='Bernoulli')\n",
        "# axis labels\n",
        "plt.xlabel('False Positive Rate')\n",
        "plt.ylabel('True Positive Rate')\n",
        "# show the legend\n",
        "plt.legend()\n",
        "# show the plot\n",
        "plt.show()"
      ],
      "execution_count": 0,
      "outputs": [
        {
          "output_type": "display_data",
          "data": {
            "image/png": "[encoded data removed]",
            "text/plain": [
              "<Figure size 432x288 with 1 Axes>"
            ]
          },
          "metadata": {
            "tags": [],
            "needs_background": "light"
          }
        }
      ]
    },
    {
      "cell_type": "code",
      "metadata": {
        "id": "pmhdm5Cm6_lK",
        "colab_type": "code",
        "outputId": "d8406898-87bb-4f85-8572-1e6ae009098e",
        "colab": {
          "base_uri": "https://localhost:8080/",
          "height": 34
        }
      },
      "source": [
        "from sklearn.svm import SVC\n",
        "svc = SVC(probability=True,tol = 0.01)\n",
        "svc.fit(x_train,y_train)\n",
        "svc_probs = svc.predict_proba(x_val)\n",
        "svc_probs = svc_probs[:, 1]\n",
        "svc_auc = roc_auc_score(y_val, svc_probs)\n",
        "\n",
        "svc_auc"
      ],
      "execution_count": 0,
      "outputs": [
        {
          "output_type": "execute_result",
          "data": {
            "text/plain": [
              "0.6570174625914482"
            ]
          },
          "metadata": {
            "tags": []
          },
          "execution_count": 700
        }
      ]
    },
    {
      "cell_type": "code",
      "metadata": {
        "id": "1oxLJig6Pnex",
        "colab_type": "code",
        "outputId": "c09a5dc3-9792-4403-f185-346212aa0804",
        "colab": {
          "base_uri": "https://localhost:8080/",
          "height": 279
        }
      },
      "source": [
        "svc_fpr, svc_tpr, _ = roc_curve(y_val, svc_probs)\n",
        "plt.plot(svc_fpr, svc_tpr, marker='.', label='Support Vector')\n",
        "# axis labels\n",
        "plt.xlabel('False Positive Rate')\n",
        "plt.ylabel('True Positive Rate')\n",
        "# show the legend\n",
        "plt.legend()\n",
        "# show the plot\n",
        "plt.show()"
      ],
      "execution_count": 0,
      "outputs": [
        {
          "output_type": "display_data",
          "data": {
            "image/png": "[encoded data removed]",
            "text/plain": [
              "<Figure size 432x288 with 1 Axes>"
            ]
          },
          "metadata": {
            "tags": [],
            "needs_background": "light"
          }
        }
      ]
    },
    {
      "cell_type": "code",
      "metadata": {
        "id": "d6LInKgtOoJM",
        "colab_type": "code",
        "outputId": "89aaca35-3fd8-4b5d-b392-b26621d418b2",
        "colab": {
          "base_uri": "https://localhost:8080/",
          "height": 34
        }
      },
      "source": [
        "from sklearn.neural_network import MLPClassifier\n",
        "p = MLPClassifier(random_state=42,\n",
        "              max_iter=100,tol = 0.0001)\n",
        "p.fit(x_train,y_train)\n",
        "p_probs = p.predict_proba(x_val)\n",
        "p_probs = p_probs[:, 1]\n",
        "p_auc = roc_auc_score(y_val, p_probs)\n",
        "\n",
        "p_auc"
      ],
      "execution_count": 0,
      "outputs": [
        {
          "output_type": "execute_result",
          "data": {
            "text/plain": [
              "0.695669987768989"
            ]
          },
          "metadata": {
            "tags": []
          },
          "execution_count": 701
        }
      ]
    },
    {
      "cell_type": "code",
      "metadata": {
        "id": "dgKgiRW4P8Nf",
        "colab_type": "code",
        "outputId": "cbbeb5ce-5e2a-4a2e-bbf5-869159e979f7",
        "colab": {
          "base_uri": "https://localhost:8080/",
          "height": 279
        }
      },
      "source": [
        "p_fpr, p_tpr, _ = roc_curve(y_val, p_probs)\n",
        "plt.plot(p_fpr, p_tpr, marker='.', label='Perceptron')\n",
        "# axis labels\n",
        "plt.xlabel('False Positive Rate')\n",
        "plt.ylabel('True Positive Rate')\n",
        "# show the legend\n",
        "plt.legend()\n",
        "# show the plot\n",
        "plt.show()"
      ],
      "execution_count": 0,
      "outputs": [
        {
          "output_type": "display_data",
          "data": {
            "image/png": "[encoded data removed]",
            "text/plain": [
              "<Figure size 432x288 with 1 Axes>"
            ]
          },
          "metadata": {
            "tags": [],
            "needs_background": "light"
          }
        }
      ]
    },
    {
      "cell_type": "markdown",
      "metadata": {
        "id": "uwFhOVU0XpxE",
        "colab_type": "text"
      },
      "source": [
        "**Let's consolidate the  scores of each model**"
      ]
    },
    {
      "cell_type": "code",
      "metadata": {
        "id": "Byv2NqSEQKXq",
        "colab_type": "code",
        "outputId": "2bd1f569-bcbb-49fa-b6e9-30773f4315ce",
        "colab": {
          "base_uri": "https://localhost:8080/",
          "height": 134
        }
      },
      "source": [
        "auc_scores = [lr_auc,rf_auc,bnb_auc,svc_auc,dt_auc,p_auc]\n",
        "models =['Logistic Regression','Random Forest','Bernoulli NaiveBayes','Support Vector','Decision Tree','MultiLayerPerceptron']\n",
        "print(\"=====================ROC_AUC Scores=========================\")\n",
        "for score,model  in zip(auc_scores,models):\n",
        "  print(model,\": \",score)"
      ],
      "execution_count": 0,
      "outputs": [
        {
          "output_type": "stream",
          "text": [
            "=====================ROC_AUC Scores=========================\n",
            "Logistic Regression :  0.616129674118332\n",
            "Random Forest :  0.9759495180107373\n",
            "Bernoulli NaiveBayes :  0.611417786152542\n",
            "Support Vector :  0.6570174625914482\n",
            "Decision Tree :  0.9151056284606165\n",
            "MultiLayerPerceptron :  0.695669987768989\n"
          ],
          "name": "stdout"
        }
      ]
    },
    {
      "cell_type": "markdown",
      "metadata": {
        "id": "e9srucR9XyBl",
        "colab_type": "text"
      },
      "source": [
        "*RandomForest and DecisionTree have exceptionally high scores, this maybe because of overfitting*\n",
        "\n",
        "Let us now predict our target and consolidate the final scores"
      ]
    },
    {
      "cell_type": "markdown",
      "metadata": {
        "id": "x43hMoSFEvkT",
        "colab_type": "text"
      },
      "source": [
        "# Predicting Test dataset\n"
      ]
    },
    {
      "cell_type": "code",
      "metadata": {
        "id": "qQEDDBFgHo8l",
        "colab_type": "code",
        "outputId": "65c7a19b-574c-4867-a86b-c31be35a21fa",
        "colab": {
          "base_uri": "https://localhost:8080/",
          "height": 249
        }
      },
      "source": [
        "data_test.head()"
      ],
      "execution_count": 0,
      "outputs": [
        {
          "output_type": "execute_result",
          "data": {
            "text/html": [
              "<div>\n",
              "<style scoped>\n",
              "    .dataframe tbody tr th:only-of-type {\n",
              "        vertical-align: middle;\n",
              "    }\n",
              "\n",
              "    .dataframe tbody tr th {\n",
              "        vertical-align: top;\n",
              "    }\n",
              "\n",
              "    .dataframe thead th {\n",
              "        text-align: right;\n",
              "    }\n",
              "</style>\n",
              "<table border=\"1\" class=\"dataframe\">\n",
              "  <thead>\n",
              "    <tr style=\"text-align: right;\">\n",
              "      <th></th>\n",
              "      <th>enrollee_id</th>\n",
              "      <th>city_development_index</th>\n",
              "      <th>experience</th>\n",
              "      <th>training_hours</th>\n",
              "      <th>Female</th>\n",
              "      <th>Male</th>\n",
              "      <th>Other</th>\n",
              "      <th>Has relevent experience</th>\n",
              "      <th>No relevent experience</th>\n",
              "      <th>Full time course</th>\n",
              "      <th>Part time course</th>\n",
              "      <th>no_enrollment</th>\n",
              "      <th>Graduate</th>\n",
              "      <th>High School</th>\n",
              "      <th>Masters</th>\n",
              "      <th>Phd</th>\n",
              "      <th>Primary School</th>\n",
              "      <th>Early Stage Startup</th>\n",
              "      <th>Funded Startup</th>\n",
              "      <th>NGO</th>\n",
              "      <th>Other</th>\n",
              "      <th>Public Sector</th>\n",
              "      <th>Pvt Ltd</th>\n",
              "      <th>last__1</th>\n",
              "      <th>last__1</th>\n",
              "      <th>last__2</th>\n",
              "      <th>last__3</th>\n",
              "      <th>last__4</th>\n",
              "      <th>last__&gt;4</th>\n",
              "      <th>last__never</th>\n",
              "    </tr>\n",
              "  </thead>\n",
              "  <tbody>\n",
              "    <tr>\n",
              "      <th>0</th>\n",
              "      <td>16548</td>\n",
              "      <td>0.000000</td>\n",
              "      <td>1.0</td>\n",
              "      <td>0.041791</td>\n",
              "      <td>0.0</td>\n",
              "      <td>1.0</td>\n",
              "      <td>0.0</td>\n",
              "      <td>0.0</td>\n",
              "      <td>1.0</td>\n",
              "      <td>1.0</td>\n",
              "      <td>0.0</td>\n",
              "      <td>0.0</td>\n",
              "      <td>1.0</td>\n",
              "      <td>0.0</td>\n",
              "      <td>0.0</td>\n",
              "      <td>0.0</td>\n",
              "      <td>0.0</td>\n",
              "      <td>0.0</td>\n",
              "      <td>0.0</td>\n",
              "      <td>0.0</td>\n",
              "      <td>0.0</td>\n",
              "      <td>1.0</td>\n",
              "      <td>0.0</td>\n",
              "      <td>0.0</td>\n",
              "      <td>0.0</td>\n",
              "      <td>0.0</td>\n",
              "      <td>0.0</td>\n",
              "      <td>0.0</td>\n",
              "      <td>0.0</td>\n",
              "      <td>0.0</td>\n",
              "    </tr>\n",
              "    <tr>\n",
              "      <th>1</th>\n",
              "      <td>12036</td>\n",
              "      <td>0.980040</td>\n",
              "      <td>0.0</td>\n",
              "      <td>0.277612</td>\n",
              "      <td>0.0</td>\n",
              "      <td>1.0</td>\n",
              "      <td>0.0</td>\n",
              "      <td>0.0</td>\n",
              "      <td>1.0</td>\n",
              "      <td>0.0</td>\n",
              "      <td>0.0</td>\n",
              "      <td>1.0</td>\n",
              "      <td>1.0</td>\n",
              "      <td>0.0</td>\n",
              "      <td>0.0</td>\n",
              "      <td>0.0</td>\n",
              "      <td>0.0</td>\n",
              "      <td>0.0</td>\n",
              "      <td>0.0</td>\n",
              "      <td>0.0</td>\n",
              "      <td>0.0</td>\n",
              "      <td>0.0</td>\n",
              "      <td>1.0</td>\n",
              "      <td>1.0</td>\n",
              "      <td>1.0</td>\n",
              "      <td>0.0</td>\n",
              "      <td>0.0</td>\n",
              "      <td>0.0</td>\n",
              "      <td>0.0</td>\n",
              "      <td>0.0</td>\n",
              "    </tr>\n",
              "    <tr>\n",
              "      <th>2</th>\n",
              "      <td>11061</td>\n",
              "      <td>0.942116</td>\n",
              "      <td>0.0</td>\n",
              "      <td>0.047761</td>\n",
              "      <td>0.0</td>\n",
              "      <td>1.0</td>\n",
              "      <td>0.0</td>\n",
              "      <td>0.0</td>\n",
              "      <td>1.0</td>\n",
              "      <td>1.0</td>\n",
              "      <td>0.0</td>\n",
              "      <td>0.0</td>\n",
              "      <td>1.0</td>\n",
              "      <td>0.0</td>\n",
              "      <td>0.0</td>\n",
              "      <td>0.0</td>\n",
              "      <td>0.0</td>\n",
              "      <td>0.0</td>\n",
              "      <td>0.0</td>\n",
              "      <td>0.0</td>\n",
              "      <td>0.0</td>\n",
              "      <td>0.0</td>\n",
              "      <td>1.0</td>\n",
              "      <td>1.0</td>\n",
              "      <td>1.0</td>\n",
              "      <td>0.0</td>\n",
              "      <td>0.0</td>\n",
              "      <td>0.0</td>\n",
              "      <td>0.0</td>\n",
              "      <td>0.0</td>\n",
              "    </tr>\n",
              "    <tr>\n",
              "      <th>3</th>\n",
              "      <td>5032</td>\n",
              "      <td>0.950100</td>\n",
              "      <td>0.0</td>\n",
              "      <td>0.223881</td>\n",
              "      <td>0.0</td>\n",
              "      <td>1.0</td>\n",
              "      <td>0.0</td>\n",
              "      <td>0.0</td>\n",
              "      <td>1.0</td>\n",
              "      <td>0.0</td>\n",
              "      <td>0.0</td>\n",
              "      <td>1.0</td>\n",
              "      <td>0.0</td>\n",
              "      <td>0.0</td>\n",
              "      <td>0.0</td>\n",
              "      <td>1.0</td>\n",
              "      <td>0.0</td>\n",
              "      <td>0.0</td>\n",
              "      <td>0.0</td>\n",
              "      <td>0.0</td>\n",
              "      <td>0.0</td>\n",
              "      <td>0.0</td>\n",
              "      <td>1.0</td>\n",
              "      <td>0.0</td>\n",
              "      <td>0.0</td>\n",
              "      <td>1.0</td>\n",
              "      <td>0.0</td>\n",
              "      <td>0.0</td>\n",
              "      <td>0.0</td>\n",
              "      <td>0.0</td>\n",
              "    </tr>\n",
              "    <tr>\n",
              "      <th>4</th>\n",
              "      <td>17599</td>\n",
              "      <td>0.762475</td>\n",
              "      <td>0.0</td>\n",
              "      <td>0.191045</td>\n",
              "      <td>0.0</td>\n",
              "      <td>1.0</td>\n",
              "      <td>0.0</td>\n",
              "      <td>1.0</td>\n",
              "      <td>0.0</td>\n",
              "      <td>0.0</td>\n",
              "      <td>0.0</td>\n",
              "      <td>1.0</td>\n",
              "      <td>1.0</td>\n",
              "      <td>0.0</td>\n",
              "      <td>0.0</td>\n",
              "      <td>0.0</td>\n",
              "      <td>0.0</td>\n",
              "      <td>0.0</td>\n",
              "      <td>0.0</td>\n",
              "      <td>0.0</td>\n",
              "      <td>0.0</td>\n",
              "      <td>0.0</td>\n",
              "      <td>1.0</td>\n",
              "      <td>0.0</td>\n",
              "      <td>0.0</td>\n",
              "      <td>1.0</td>\n",
              "      <td>0.0</td>\n",
              "      <td>0.0</td>\n",
              "      <td>0.0</td>\n",
              "      <td>0.0</td>\n",
              "    </tr>\n",
              "  </tbody>\n",
              "</table>\n",
              "</div>"
            ],
            "text/plain": [
              "   enrollee_id  city_development_index  ...  last__>4  last__never\n",
              "0        16548                0.000000  ...       0.0          0.0\n",
              "1        12036                0.980040  ...       0.0          0.0\n",
              "2        11061                0.942116  ...       0.0          0.0\n",
              "3         5032                0.950100  ...       0.0          0.0\n",
              "4        17599                0.762475  ...       0.0          0.0\n",
              "\n",
              "[5 rows x 30 columns]"
            ]
          },
          "metadata": {
            "tags": []
          },
          "execution_count": 713
        }
      ]
    },
    {
      "cell_type": "code",
      "metadata": {
        "id": "6f0tacNIR6Ac",
        "colab_type": "code",
        "colab": {}
      },
      "source": [
        "x_test = data_test.drop(['enrollee_id','last__1'], axis = 'columns')"
      ],
      "execution_count": 0,
      "outputs": []
    },
    {
      "cell_type": "code",
      "metadata": {
        "id": "CggGcCXP_Zek",
        "colab_type": "code",
        "outputId": "23688ada-55c4-4128-f78b-34d7e60b9f21",
        "colab": {
          "base_uri": "https://localhost:8080/",
          "height": 34
        }
      },
      "source": [
        "pred_lr = lr.predict(x_test)\n",
        "unique_elements, counts_elements = np.unique(pred_lr, return_counts=True)\n",
        "print(unique_elements,counts_elements)"
      ],
      "execution_count": 0,
      "outputs": [
        {
          "output_type": "stream",
          "text": [
            "[0. 1.] [9605 5416]\n"
          ],
          "name": "stdout"
        }
      ]
    },
    {
      "cell_type": "code",
      "metadata": {
        "id": "Y2sVlZRFwdd3",
        "colab_type": "code",
        "outputId": "0f4334c3-7dec-4c18-bbae-5fd9d5ecb093",
        "colab": {
          "base_uri": "https://localhost:8080/",
          "height": 34
        }
      },
      "source": [
        "pred_rf = rf.predict(x_test)\n",
        "unique_elements, counts_elements = np.unique(pred_rf, return_counts=True)\n",
        "print(unique_elements,counts_elements)"
      ],
      "execution_count": 0,
      "outputs": [
        {
          "output_type": "stream",
          "text": [
            "[0. 1.] [12567  2454]\n"
          ],
          "name": "stdout"
        }
      ]
    },
    {
      "cell_type": "code",
      "metadata": {
        "id": "CuR7KaU529el",
        "colab_type": "code",
        "outputId": "d8f6cc87-e333-48d9-de1a-0817c78a878b",
        "colab": {
          "base_uri": "https://localhost:8080/",
          "height": 34
        }
      },
      "source": [
        "pred_dt = dt.predict(x_test)\n",
        "unique_elements, counts_elements = np.unique(pred_dt, return_counts=True)\n",
        "print(unique_elements,counts_elements)"
      ],
      "execution_count": 0,
      "outputs": [
        {
          "output_type": "stream",
          "text": [
            "[0. 1.] [12192  2829]\n"
          ],
          "name": "stdout"
        }
      ]
    },
    {
      "cell_type": "code",
      "metadata": {
        "id": "79RTXO2A9wlR",
        "colab_type": "code",
        "outputId": "968569db-4764-4216-d5ef-f78dd00e9ff1",
        "colab": {
          "base_uri": "https://localhost:8080/",
          "height": 34
        }
      },
      "source": [
        "pred_svc = svc.predict(x_test)\n",
        "unique_elements, counts_elements = np.unique(pred_svc, return_counts=True)\n",
        "print(unique_elements,counts_elements)"
      ],
      "execution_count": 0,
      "outputs": [
        {
          "output_type": "stream",
          "text": [
            "[0. 1.] [9299 5722]\n"
          ],
          "name": "stdout"
        }
      ]
    },
    {
      "cell_type": "code",
      "metadata": {
        "id": "Rrocconq-ufq",
        "colab_type": "code",
        "outputId": "893115d1-6206-4305-fc6b-e572f943d8d5",
        "colab": {
          "base_uri": "https://localhost:8080/",
          "height": 34
        }
      },
      "source": [
        "pred_bnb = bnb.predict(x_test)\n",
        "unique_elements, counts_elements = np.unique(pred_bnb, return_counts=True)\n",
        "print(unique_elements,counts_elements)"
      ],
      "execution_count": 0,
      "outputs": [
        {
          "output_type": "stream",
          "text": [
            "[0. 1.] [9386 5635]\n"
          ],
          "name": "stdout"
        }
      ]
    },
    {
      "cell_type": "code",
      "metadata": {
        "id": "jwcJGtk-P--0",
        "colab_type": "code",
        "outputId": "5cb0d627-00c8-492c-dd70-e90779a42f2c",
        "colab": {
          "base_uri": "https://localhost:8080/",
          "height": 34
        }
      },
      "source": [
        "pred_p = p.predict(x_test)\n",
        "unique_elements, counts_elements = np.unique(pred_p, return_counts=True)\n",
        "print(unique_elements,counts_elements)"
      ],
      "execution_count": 0,
      "outputs": [
        {
          "output_type": "stream",
          "text": [
            "[0. 1.] [9560 5461]\n"
          ],
          "name": "stdout"
        }
      ]
    },
    {
      "cell_type": "code",
      "metadata": {
        "id": "hzu3FiuxNqW2",
        "colab_type": "code",
        "colab": {}
      },
      "source": [
        "pd.DataFrame(pred_lr, columns=['target']).to_csv('/prediction_lr.csv')\n",
        "pd.DataFrame(pred_xgb, columns=['target']).to_csv('/prediction_rf.csv')\n",
        "pd.DataFrame(pred_dt, columns=['target']).to_csv('/prediction_dt.csv')\n",
        "pd.DataFrame(pred_svc, columns=['target']).to_csv('/prediction_svc.csv')\n",
        "pd.DataFrame(pred_bnb, columns=['target']).to_csv('/prediction_bnb.csv')\n",
        "pd.DataFrame(pred_p, columns=['target']).to_csv('/prediction_p.csv')\n"
      ],
      "execution_count": 0,
      "outputs": []
    },
    {
      "cell_type": "code",
      "metadata": {
        "id": "Tdw81bmMYWEr",
        "colab_type": "code",
        "outputId": "cf0aaab5-5748-407c-b1b5-c856ba3ea2b3",
        "colab": {
          "base_uri": "https://localhost:8080/",
          "height": 134
        }
      },
      "source": [
        "auc_scores = [0.5957,0.5162,0.5950,0.6008,0.5168,0.6133]\n",
        "models =['Logistic Regression','Random Forest','Bernoulli NaiveBayes','Support Vector','Decision Tree','MultiLayerPerceptron']\n",
        "print(\"=====================Final Scores=========================\")\n",
        "for score,model  in zip(auc_scores,models):\n",
        "  print(model,\": \",score)"
      ],
      "execution_count": 0,
      "outputs": [
        {
          "output_type": "stream",
          "text": [
            "=====================Final Scores=========================\n",
            "Logistic Regression :  0.5957\n",
            "Random Forest :  0.5162\n",
            "Bernoulli NaiveBayes :  0.595\n",
            "Support Vector :  0.6008\n",
            "Decision Tree :  0.5168\n",
            "MultiLayerPerceptron :  0.6133\n"
          ],
          "name": "stdout"
        }
      ]
    },
    {
      "cell_type": "markdown",
      "metadata": {
        "id": "usrqIa_sZW_N",
        "colab_type": "text"
      },
      "source": [
        "**As we assumed, the models with abnormally high score training(Random Forest,Decision Tree) performed the worst on test set. This is because of overfitting.**\n",
        "\n",
        "Here is a link explaining what is overfitting and how it can be reduced:\n",
        "[Overfit and Underfit in ML](https://towardsdatascience.com/what-are-overfitting-and-underfitting-in-machine-learning-a96b30864690)"
      ]
    }
  ]
}